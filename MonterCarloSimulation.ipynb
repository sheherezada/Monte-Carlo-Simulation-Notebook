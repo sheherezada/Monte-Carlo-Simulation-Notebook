{
 "cells": [
  {
   "cell_type": "code",
   "execution_count": 1,
   "metadata": {},
   "outputs": [],
   "source": [
    "%matplotlib inline"
   ]
  },
  {
   "cell_type": "code",
   "execution_count": 2,
   "metadata": {},
   "outputs": [],
   "source": [
    "import numpy as np\n",
    "import sympy as sp\n",
    "import matplotlib.pyplot as plt\n",
    "import math \n",
    "import pandas as pd\n",
    "import seaborn as sns\n",
    "import scipy.stats as stats\n"
   ]
  },
  {
   "cell_type": "markdown",
   "metadata": {},
   "source": [
    "<h1><center>Monte Carlo Simulation</center></h1>"
   ]
  },
  {
   "cell_type": "markdown",
   "metadata": {},
   "source": [
    "<span><center>Hristina Aleksandrova June, 2021</center><span>"
   ]
  },
  {
   "cell_type": "markdown",
   "metadata": {},
   "source": [
    "<img src=\"pic4.png\">"
   ]
  },
  {
   "cell_type": "markdown",
   "metadata": {},
   "source": [
    "<h3> What is a simulation?</h3>"
   ]
  },
  {
   "cell_type": "markdown",
   "metadata": {},
   "source": [
    "<p>\n",
    "A simulation is the imitation of the operation of a real-world process or system over time. Simulations require the use of models or key characteristics or behaviors of the selected system or process, where the simulation represents the evolution of the model over time. \n",
    "Historically, simulations used in different fields developed largely independently, but 20th-century studies of systems theory and cybernetics combined with spreading use of computers across all those fields have led to some unification and a more systematic view of the  concept.\n",
    "\n",
    "</p>\n",
    "<p>\n",
    "    There different well known types of simulation: Physical simulation, Continuous simulation or Discrete-event simulation, which studies systems whose states change their values only at discrete times. \n",
    "</p>\n",
    "<p>\n",
    "    Stochastic simulation is a simulation in which a variable or process is subject to random variations and is designed using Monte Carlo techniques using pseudo-random numbers. In this way, replicated runs  with the same boundary conditions will lead to different results within a certain range of confidence\n",
    "</p>\n",
    "<p>\n",
    "    A computer simulation :  \"sim\" is an attempt to model a real-life or hypothetical situation on a computer so that it can be studied to see how the system works. By changing variables in the simulation, predictions may be made about the behaviour of the system. It is a tool to virtually investigate the behaviour of the system under study.\n",
    "</p> "
   ]
  },
  {
   "cell_type": "markdown",
   "metadata": {},
   "source": [
    "<h3>Why simulation is so important? Enigma vs the Bombe: Who wins the war? </h3>"
   ]
  },
  {
   "cell_type": "markdown",
   "metadata": {},
   "source": [
    "<img src=\"pic2.jpg\"><img src=\"pic3.jpg\">"
   ]
  },
  {
   "cell_type": "markdown",
   "metadata": {},
   "source": [
    "<p>\n",
    "    During World War II, Alan Turing served the Allied forces by breaking German military codes, particularly those used by the German navy.He was tasked with solving encoded German naval messages. He devised a range of code-breaking tools for cracking German ciphers, including an electromagnetic device called the Bombe, which countered the infamous German Enigma machine. The Enigma machine was developed in Germany shortly after World War I to encode and decode messages, and for the next 20 years the German military refined the technology until it became the Nazis' primary means of ciphering messages during WWII.  Enigma technology was continuously altered throughout the war, making the challenge of breaking German ciphers extremely difficult. But The Bombe was especially crucial to the Allies' victory in what Winston Churchill called the Battle of the Atlantic, in which German U-boats laid siege to Allied naval forces in an effort to cut off supply lines to Great Britain.  Without the ability to break German codes to determine the locations of U-boats, the Allies may very well have lost the Battle of the Atlantic, and quite possibly the war.\n",
    "</p>\n",
    "<p>\n",
    "      Alan Turing introduced the idea of such a machine in 1936–1937. This principle is considered to be the origin of the idea of a stored-program computer used by John von Neumann in 1946 for the \"Electronic Computing Instrument\" that now bears von Neumann's name: the von Neumann architecture.\n",
    "    In computer science, a universal Turing machine (UTM) is a Turing machine that simulates an arbitrary Turing machine on arbitrary input. The universal machine essentially achieves this by reading both the description of the machine to be simulated as well as the input to that machine from its own tape.\n",
    "    A universal Turing machine can calculate any recursive function, decide any recursive language, and accept any recursively enumerable language. According to the Church–Turing thesis, the problems solvable by a universal Turing machine are exactly those problems solvable by an algorithm or an effective method of computation, for any reasonable definition of those terms\n",
    "</p>    "
   ]
  },
  {
   "cell_type": "markdown",
   "metadata": {},
   "source": [
    "<h3> How statistics and simulation are related?</h3>"
   ]
  },
  {
   "cell_type": "markdown",
   "metadata": {},
   "source": [
    "<img src=\"pic1.png\">"
   ]
  },
  {
   "cell_type": "markdown",
   "metadata": {},
   "source": [
    "<p>\n",
    "    Simulation statistics is using artificially generate data in order to test out a hypothesis or statistical method. \n",
    "\n",
    "There are several advantages to using simulated data. First, it is cheap because it uses random numbers generated rather than data that are collected. Second, it is much faster than traditional data collection, so tests can be run more quickly. Best of all, if the hypothesis or model is pretty solid, then the results of simulation statistics can approximate real results.\n",
    "\n",
    "The best part of simulation statistics is also one of its disadvantages. It only approximates real-world results, which indicates a little grain of salt you have to consider when running the data.\n",
    "</p>\n",
    "<p>\n",
    "    Most common of the utility is the calculation of the probability of an outcom.\n",
    "</p>   \n",
    "<span><img src=\"pic5.png\"></span>\n",
    "<p>\n",
    "    Desired outcomes: If we're being asked for the probability of something happening, \"desired outcomes\" is the number of ways that the \"something\" could happen.<br>\n",
    "    Possible outcomes: Possible outcomes is the number of ways an event could happen, regardless of whether or not we get the \"desired\" outcome. We also refer to the \"possible outcomes\" as the \"sample space.\"<br>\n",
    "    I roll a six-sided die. What is the probability that I will roll a two?<br>\n",
    "    How many ways can the six-sided die land? It can land in 6 different ways (1, 2, 3, 4, 5, or 6). Of these six, how many are \"desired\" outcomes (an outcome I want). There is only one desired outcome - a two. Thus, since there are 6 possible outcomes, and only 1 desired outcome:<br>\n",
    "    $$ P =\\frac {1}{6}$$\n",
    "</p>\n",
    "<p>\n",
    "    We can also  Generate Random Numbers\n",
    "In the very best statistics, randomness is actually desirable because if there is a pattern, then it sticks out. To simulate data, we come up with values that are randomly generated within our parameters. You can choose any size dataset to create, but for the sake of expediency let’s generate a measly 500 data points using a random number generator.\n",
    "</p>\n",
    "<img src=\"pic6.png\">\n",
    "<p>\n",
    "    An interesting application of random number generators is in the online casino and poker industry. Since its advent, the online poker and casino industry has relied heavily on random number generators to provide statistically random outcomes to a wide range of casino games such as blackjack, poker and of course slots.\n",
    "\n",
    "Initially, the industry relied heavily on cumbersome Geiger Muller RNG’s but as gaming software technology developed further so did the type of RNGs used. Today’s online casinos and poker rooms rely exclusively on pseudo-random number generators with what is called the “seed number” generated by a separate process.\n",
    "</p>\n",
    "<p>\n",
    "    Analyze of the  Data patterns is also part of the statistics simulations.Example Empirical and calculated probabilities <br>\n",
    "    \n",
    "In probability theory, empirical probability is an estimated probability based upon previous evidence or experimental results. As such, empirical probability is sometimes referred to as experimental probability, and we can distinguish it from probabilities calculated from a clearly-defined sample space.\n",
    "    Empirical probabilities are based upon how likely an event has proven in the past. Thus, they are always estimates.\n",
    "    In contrast to empirical probabilities, which are estimates, calculated probabilities involving distinct outcomes from a sample space are exact. For example, if the event X consists of m desired outcomes within a total sample space of n possible outcomes, then the probability of X will be:<br>\n",
    "    $$P(X)=\\frac{m}{n}$$\n",
    "</p>"
   ]
  },
  {
   "cell_type": "markdown",
   "metadata": {},
   "source": [
    "<h3>What is Monte Carlo method in real life?</h3>"
   ]
  },
  {
   "cell_type": "markdown",
   "metadata": {},
   "source": [
    "<img src=\"pic7.png\">"
   ]
  },
  {
   "cell_type": "markdown",
   "metadata": {},
   "source": [
    "<p>\n",
    "A Monte Carlo Simulation is “a problem-solving technique used to approximate the probability of certain outcomes by running multiple trial runs, called simulations, using random variables.” ... It then simulates the completion of remaining work and produces a histogram showing the distribution of possible delivery dates. It has 4 steps:<br>\n",
    "   \n",
    "    Define the distribution of possible inputs for each input random variable.\n",
    "    Generate the inputs randomly for those distributions.\n",
    "    Perform the deterministic computation using that set of inputs.\n",
    "    Aggregate the results in the individual computation into a final result.\n",
    "</p>"
   ]
  },
  {
   "cell_type": "markdown",
   "metadata": {},
   "source": [
    "<h4>Example of Monte Carlo simulation to predict the range of potential values for a sales compensation budget. <h4>"
   ]
  },
  {
   "cell_type": "markdown",
   "metadata": {},
   "source": [
    "<p>Lets try to predict how much money we should budget for sales commissions for the next year. For example the  task of  Ivancho or Maryika as analyst is to tell finance how much to budget for sales commissions for next year. One approach might be to assume everyone makes 100% of their target and earns the 4% commission rate. The best way to do this prediction is by using Monte Carlo simulation.\n",
    "Becauset commissions has been paid of for several years, Ivancho and Maryika  can look at a typical historical distribution of percent to target. In this case the distribution looks like a normal distribution with a mean of 100% and standard deviation of 10%.</p><br>\n",
    "<span><img src=\"pic8.png\"></span>\n",
    "<p>\n",
    "    There are two components to running a Monte Carlo simulation:\n",
    "\n",
    "1.the equation to evaluate<br>\n",
    "2.the random variables for the input\n",
    "</p>    "
   ]
  },
  {
   "cell_type": "code",
   "execution_count": 3,
   "metadata": {},
   "outputs": [],
   "source": [
    "avg = 1\n",
    "std_dev = .1\n",
    "num_reps = 500 #number of sales reps\n",
    "num_simulations = 1000 #number of simulation"
   ]
  },
  {
   "cell_type": "code",
   "execution_count": 4,
   "metadata": {},
   "outputs": [],
   "source": [
    "pct_to_target = np.random.normal(avg, std_dev, num_reps).round(2) #np random"
   ]
  },
  {
   "cell_type": "markdown",
   "metadata": {},
   "source": [
    "<p>By using numpy though, this simulation could be adjust and use other distribution for future models .</p>\n",
    "<p>\n",
    "    There is one other value that Ivancho and Maryika shall simulate and that is the actual sales target. In order to illustrate a different distribution, we assume  that the sales target distribution looks something like this:\n",
    "    <span><img src=\"pic9.png\"></span>\n",
    "    This distribution shows  that sales targets are set into 1 of 6 buckets and the frequency gets lower as the amount increases. This distribution could be indicative of a very simple target setting process where individuals are bucketed into certain groups and given targets consistently based on their tenure, territory size or sales pipeline.\n",
    "</p>    "
   ]
  },
  {
   "cell_type": "code",
   "execution_count": 5,
   "metadata": {},
   "outputs": [],
   "source": [
    "sales_target_values = [75_000, 100_000, 200_000, 300_000, 400_000, 500_000]\n",
    "sales_target_prob = [.3, .3, .2, .1, .05, .05]\n",
    "sales_target = np.random.choice(sales_target_values, num_reps, p=sales_target_prob)"
   ]
  },
  {
   "cell_type": "markdown",
   "metadata": {},
   "source": [
    "<p>\n",
    "    The next step is to build  build up a pandas dataframe:\n",
    "    <span><img src=\"pic10.png\"></span>\n",
    "</p>"
   ]
  },
  {
   "cell_type": "code",
   "execution_count": 6,
   "metadata": {},
   "outputs": [],
   "source": [
    "df = pd.DataFrame(index=range(num_reps), data={'Pct_To_Target': pct_to_target,\n",
    "                                               'Sales_Target': sales_target})\n",
    "\n",
    "df['Sales'] = df['Pct_To_Target'] * df['Sales_Target']"
   ]
  },
  {
   "cell_type": "markdown",
   "metadata": {},
   "source": [
    "<p>\n",
    "After Ivancho creates  code  to map the Pct_To_Target to the commission rate:\n",
    "</p>"
   ]
  },
  {
   "cell_type": "code",
   "execution_count": 7,
   "metadata": {},
   "outputs": [],
   "source": [
    "def calc_commission_rate(x):\n",
    "    \"\"\" Return the commission rate based on the table:\n",
    "    0-90% = 2%\n",
    "    91-99% = 3%\n",
    "    >= 100 = 4%\n",
    "    \"\"\"\n",
    "    if x <= .90:\n",
    "        return .02\n",
    "    if x <= .99:\n",
    "        return .03\n",
    "    else:\n",
    "        return .04"
   ]
  },
  {
   "cell_type": "markdown",
   "metadata": {},
   "source": [
    "<p>After he creates commission rate and multiply it times sales:</p>"
   ]
  },
  {
   "cell_type": "code",
   "execution_count": 8,
   "metadata": {},
   "outputs": [],
   "source": [
    "df['Commission_Rate'] = df['Pct_To_Target'].apply(calc_commission_rate)\n",
    "df['Commission_Amount'] = df['Commission_Rate'] * df['Sales']"
   ]
  },
  {
   "cell_type": "markdown",
   "metadata": {},
   "source": [
    "<p>\n",
    "And finally the The real “magic” of the Monte Carlo simulation is that if Maryika runs a simulation many times, we start to develop a picture of the likely distribution of results. \n",
    "\n",
    "</p>"
   ]
  },
  {
   "cell_type": "code",
   "execution_count": 9,
   "metadata": {},
   "outputs": [],
   "source": [
    "# Define a list to keep all the results from each simulation \n",
    "all_stats = []\n",
    "\n",
    "# Loop through many simulations\n",
    "for i in range(num_simulations):\n",
    "\n",
    "    # Choose random inputs for the sales targets and percent to target\n",
    "    sales_target = np.random.choice(sales_target_values, num_reps, p=sales_target_prob)\n",
    "    pct_to_target = np.random.normal(avg, std_dev, num_reps).round(2)\n",
    "\n",
    "    # Build the dataframe based on the inputs and number of reps\n",
    "    df = pd.DataFrame(index=range(num_reps), data={'Pct_To_Target': pct_to_target,\n",
    "                                                   'Sales_Target': sales_target})\n",
    "\n",
    "    # Back into the sales number using the percent to target rate\n",
    "    df['Sales'] = df['Pct_To_Target'] * df['Sales_Target']\n",
    "\n",
    "    # Determine the commissions rate and calculate it\n",
    "    df['Commission_Rate'] = df['Pct_To_Target'].apply(calc_commission_rate)\n",
    "    df['Commission_Amount'] = df['Commission_Rate'] * df['Sales']\n",
    "\n",
    "    # We want to track sales,commission amounts and sales targets over all the simulations\n",
    "    all_stats.append([df['Sales'].sum().round(0),\n",
    "                      df['Commission_Amount'].sum().round(0),\n",
    "                      df['Sales_Target'].sum().round(0)])"
   ]
  },
  {
   "cell_type": "code",
   "execution_count": 10,
   "metadata": {},
   "outputs": [],
   "source": [
    "results_df = pd.DataFrame.from_records(all_stats, columns=['Sales',\n",
    "                                                           'Commission_Amount',\n",
    "                                                           'Sales_Target'])"
   ]
  },
  {
   "cell_type": "code",
   "execution_count": 11,
   "metadata": {},
   "outputs": [
    {
     "data": {
      "text/html": [
       "<style  type=\"text/css\" >\n",
       "</style><table id=\"T_0083c_\" ><thead>    <tr>        <th class=\"blank level0\" ></th>        <th class=\"col_heading level0 col0\" >Sales</th>        <th class=\"col_heading level0 col1\" >Commission_Amount</th>        <th class=\"col_heading level0 col2\" >Sales_Target</th>    </tr></thead><tbody>\n",
       "                <tr>\n",
       "                        <th id=\"T_0083c_level0_row0\" class=\"row_heading level0 row0\" >count</th>\n",
       "                        <td id=\"T_0083c_row0_col0\" class=\"data row0 col0\" >1,000.0</td>\n",
       "                        <td id=\"T_0083c_row0_col1\" class=\"data row0 col1\" >1,000.0</td>\n",
       "                        <td id=\"T_0083c_row0_col2\" class=\"data row0 col2\" >1,000.0</td>\n",
       "            </tr>\n",
       "            <tr>\n",
       "                        <th id=\"T_0083c_level0_row1\" class=\"row_heading level0 row1\" >mean</th>\n",
       "                        <td id=\"T_0083c_row1_col0\" class=\"data row1 col0\" >83,730,055.25</td>\n",
       "                        <td id=\"T_0083c_row1_col1\" class=\"data row1 col1\" >2,855,728.205</td>\n",
       "                        <td id=\"T_0083c_row1_col2\" class=\"data row1 col2\" >83,765,850.0</td>\n",
       "            </tr>\n",
       "            <tr>\n",
       "                        <th id=\"T_0083c_level0_row2\" class=\"row_heading level0 row2\" >std</th>\n",
       "                        <td id=\"T_0083c_row2_col0\" class=\"data row2 col0\" >2,715,373.2095104335</td>\n",
       "                        <td id=\"T_0083c_row2_col1\" class=\"data row2 col1\" >102,392.2594909822</td>\n",
       "                        <td id=\"T_0083c_row2_col2\" class=\"data row2 col2\" >2,684,956.2878690907</td>\n",
       "            </tr>\n",
       "            <tr>\n",
       "                        <th id=\"T_0083c_level0_row3\" class=\"row_heading level0 row3\" >min</th>\n",
       "                        <td id=\"T_0083c_row3_col0\" class=\"data row3 col0\" >76,113,500.0</td>\n",
       "                        <td id=\"T_0083c_row3_col1\" class=\"data row3 col1\" >2,553,670.0</td>\n",
       "                        <td id=\"T_0083c_row3_col2\" class=\"data row3 col2\" >76,075,000.0</td>\n",
       "            </tr>\n",
       "            <tr>\n",
       "                        <th id=\"T_0083c_level0_row4\" class=\"row_heading level0 row4\" >25%</th>\n",
       "                        <td id=\"T_0083c_row4_col0\" class=\"data row4 col0\" >81,919,250.0</td>\n",
       "                        <td id=\"T_0083c_row4_col1\" class=\"data row4 col1\" >2,788,321.25</td>\n",
       "                        <td id=\"T_0083c_row4_col2\" class=\"data row4 col2\" >81,893,750.0</td>\n",
       "            </tr>\n",
       "            <tr>\n",
       "                        <th id=\"T_0083c_level0_row5\" class=\"row_heading level0 row5\" >50%</th>\n",
       "                        <td id=\"T_0083c_row5_col0\" class=\"data row5 col0\" >83,663,500.0</td>\n",
       "                        <td id=\"T_0083c_row5_col1\" class=\"data row5 col1\" >2,856,817.5</td>\n",
       "                        <td id=\"T_0083c_row5_col2\" class=\"data row5 col2\" >83,650,000.0</td>\n",
       "            </tr>\n",
       "            <tr>\n",
       "                        <th id=\"T_0083c_level0_row6\" class=\"row_heading level0 row6\" >75%</th>\n",
       "                        <td id=\"T_0083c_row6_col0\" class=\"data row6 col0\" >85,537,375.0</td>\n",
       "                        <td id=\"T_0083c_row6_col1\" class=\"data row6 col1\" >2,923,465.25</td>\n",
       "                        <td id=\"T_0083c_row6_col2\" class=\"data row6 col2\" >85,600,000.0</td>\n",
       "            </tr>\n",
       "            <tr>\n",
       "                        <th id=\"T_0083c_level0_row7\" class=\"row_heading level0 row7\" >max</th>\n",
       "                        <td id=\"T_0083c_row7_col0\" class=\"data row7 col0\" >95,533,750.0</td>\n",
       "                        <td id=\"T_0083c_row7_col1\" class=\"data row7 col1\" >3,287,925.0</td>\n",
       "                        <td id=\"T_0083c_row7_col2\" class=\"data row7 col2\" >95,350,000.0</td>\n",
       "            </tr>\n",
       "    </tbody></table>"
      ],
      "text/plain": [
       "<pandas.io.formats.style.Styler at 0x24e99a05550>"
      ]
     },
     "execution_count": 11,
     "metadata": {},
     "output_type": "execute_result"
    }
   ],
   "source": [
    "results_df.describe().style.format('{:,}')"
   ]
  },
  {
   "cell_type": "markdown",
   "metadata": {},
   "source": [
    "<span><img src=\"pic11.png\"></span>"
   ]
  },
  {
   "cell_type": "markdown",
   "metadata": {},
   "source": [
    "<p>At the end Maryika and Ivan made different assumption:\n",
    "\n",
    "\n",
    "Increase top commission rate to 5%<br>\n",
    "Decrease the number of sales people<br>\n",
    "Change the expected standard deviation to a higher amount<br>\n",
    "Modify the distribution of targets<br>\n",
    "    More, they  easily explained the results  to the end user of the prediction. The person receiving this estimate may not have a deep mathematical background but can intuitively understand what this simulation is doing and how to assess the likelihood of the range of potential results.\n",
    "</p>"
   ]
  },
  {
   "cell_type": "markdown",
   "metadata": {},
   "source": [
    "\n",
    "[the notebook associated with this post on github](https://www.worldometers.info/)"
   ]
  },
  {
   "cell_type": "markdown",
   "metadata": {},
   "source": [
    "<h3>Montecarlo in science: Is Monte Carlo so different  than Numerical integration?</h3>"
   ]
  },
  {
   "cell_type": "markdown",
   "metadata": {},
   "source": [
    "<p>\n",
    "Numeric integration consists in the elimination of the integral value by means of a specific algorithm. Integration of\n",
    "a specific function will consist in approximating the value of the surface area between this function determined in a givenrange and the OX axis. Such algorithms determine the value of the definite integral is important in the industry, as well ininformatics, which can be seen on the example of the latest research results published around the world.\n",
    "As an intermediate tool, numerical integration was used in estimating the population abundance  or in reconstructing\n",
    "medical images or in physics\n",
    "</p>\n",
    "<p>The purpose is to find approximation of searched integral. Depending on our needs, we can use methods, which allow\n",
    "us to calculate the result with specific error. There are a few basic methods of numerical integration, differing in a way of approximation:<br>\n",
    "• midpoint rule,<br>\n",
    "• trapezoidal rule,<br>\n",
    "• Simpson’s rule.<br>\n",
    "In all of them we get approximated value of integral, but they are determined with various errors and speed of\n",
    "convergence to the correct result. All of these methods consist in dividing the interval [a, b] on n same subintervals and calculating area of function for each of the subintervals with using specific formulas.\n",
    "</p>\n"
   ]
  },
  {
   "cell_type": "markdown",
   "metadata": {},
   "source": [
    "<h4>Example :Trapezoidal rule</h4>"
   ]
  },
  {
   "cell_type": "code",
   "execution_count": 12,
   "metadata": {},
   "outputs": [
    {
     "data": {
      "image/png": "[encoded data removed]",
      "text/plain": [
       "<Figure size 432x288 with 1 Axes>"
      ]
     },
     "metadata": {
      "needs_background": "light"
     },
     "output_type": "display_data"
    },
    {
     "name": "stdout",
     "output_type": "stream",
     "text": [
      "Trapezoid area: 0.6839397205857212\n"
     ]
    }
   ],
   "source": [
    "x = np.linspace(-0.5,1.5,100)\n",
    "y = np.exp(-x**2)\n",
    "plt.title(\"Single $\\int$ of Trapezoid\")\n",
    "plt.xlabel(\"x\")\n",
    "plt.ylabel(\"y\")\n",
    "\n",
    "plt.plot(x,y)\n",
    "\n",
    "x0 = 0; x1 = 1;\n",
    "y0 = np.exp(-x0**2); y1 = np.exp(-x1**2);\n",
    "plt.fill_between([x0,x1],[y0,y1])\n",
    "\n",
    "plt.xlim([-0.5,1.5]); plt.ylim([0,1.5]);\n",
    "plt.show()\n",
    "\n",
    "A = 0.5*(y1 + y0)*(x1 - x0)\n",
    "print(\"Trapezoid area:\", A)"
   ]
  },
  {
   "cell_type": "markdown",
   "metadata": {},
   "source": [
    "<p>\n",
    "    The fundamental theorem of calculus tells us that differentiation and integration are inverse functions $f(x) = A`(x)$. But if a function has not a simple antiderivative, we should approximate it. \n",
    "<img src = \"pic13.png\" style = \"width:500px\"/><br>\n",
    "  If we consider this function $y=f(x$), each $x$ has a correspoting function $A(x)$.To estimate the area between $a$ and $b$ or in this case between $o$ and $x + h$ we should apply $A(x + h) - A(x)$ [5]\n",
    " </p>\n",
    " <p>To make this approximation we can use rectangle or more sophisticated trapezoid rule\n",
    "we should consider that each trapezoid is the sum of a rectangle and a triangle\n",
    "$(xi−xi−1)f(xi−1)+12(xi−xi−1)(f(xi)−f(xi−1))=12(f(xi)+f(xi−1))(xi−xi−1)$ \n",
    "</p>\n",
    "<p>\n",
    "The rule for $N$ subintervals of $[a,b]$ of equal length is $T_N(f)= \\frac{\\Delta x}{2}\\sum_{i=1}^{N}(f(x_i)+f(x_{i-1})) $, where $\\Delta x = (b - a) / N$ and $x_i = a + i\\Delta x$ [6]\n",
    "</p>\n",
    "<p>\n",
    "    In computer science, a deterministic algorithm is an algorithm which, given a particular input, will always produce the same output, with the underlying machine always passing through the same sequence of states. Deterministic algorithms are by far the most studied and familiar kind of algorithm, as well as one of the most practical, since they can be run on real machines efficiently.\n",
    "\n",
    "Formally, a deterministic algorithm computes a mathematical function; a function has a unique value for any input in its domain, and the algorithm is a process that produces this particular value as output. In this consist the essential difference between Monte Carlo and Trapezoidal.\n",
    "</p>\n",
    "<p>\n",
    "    Deterministic algorithms can be defined in terms of a state machine: a state describes what a machine is doing at a particular instant in time. State machines pass in a discrete manner from one state to another. Just after we enter the input, the machine is in its initial state or start state. If the machine is deterministic, this means that from this point onwards, its current state determines what its next state will be; its course through the set of states is predetermined. Note that a machine can be deterministic and still never stop or finish, and therefore fail to deliver a result. The best example is the Turing Machine.\n",
    "</p> \n",
    "<p>\n",
    "    A variety of factors can cause an algorithm to behave in a way which is not deterministic, or non-deterministic:\n",
    "If it uses external state other than the input, such as user input, a global variable, a hardware timer value, a random value, or stored disk data.\n",
    "If it operates in a way that is timing-sensitive, for example if it has multiple processors writing to the same data at the same time. In this case, the precise order in which each processor writes its data will affect the result.\n",
    "If a hardware error causes its state to change in an unexpected way.\n",
    "</p>  \n",
    "<p>\n",
    "    Monte Carlo integration, on the other hand, employs a non-deterministic approach: each realization provides a different outcome. In Monte Carlo, the final outcome is an approximation of the correct value with respective error bars, and the correct value is likely to be within those error bars. Stochastic  refers to the property of being well described by a random probability distribution.[1] Although stochasticity and randomness are distinct in that the former refers to a modeling approach and the latter refers to phenomena themselves.\n",
    "    The Monte Carlo method is a stochastic method  \n",
    "</p>    \n",
    "<p>\n",
    "    The trapezoidal rule is based on the geometrical\n",
    "interpretation of integration a. It\n",
    "seems intuitive that if enough points are taken, the area of the trapezoids will sum to the total area. It can also\n",
    "be seen from the figure that if the function being integrated is consistently cupped upward or downward over the interval, there is always a small error. <i>Thus it will require an infinite number of points to obtain the\n",
    "exact answer. It also follows logically that for any function other than a straight line, there is no guarantee\n",
    "that the trapezoidal rule will ever produce the exact answer in a finite number of points</i>. \n",
    "</p>    \n",
    "    "
   ]
  },
  {
   "cell_type": "code",
   "execution_count": 13,
   "metadata": {},
   "outputs": [
    {
     "data": {
      "text/plain": [
       "[]"
      ]
     },
     "execution_count": 13,
     "metadata": {},
     "output_type": "execute_result"
    },
    {
     "data": {
      "image/png": "[encoded data removed]",
      "text/plain": [
       "<Figure size 432x288 with 1 Axes>"
      ]
     },
     "metadata": {
      "needs_background": "light"
     },
     "output_type": "display_data"
    }
   ],
   "source": [
    "np.random.seed(6345345)\n",
    "\n",
    "# make 200 random numbers and use half as X coordinate\n",
    "# and the other half as Y coordinate for 100 points\n",
    "X = np.random.uniform(size=(100*2))\n",
    "plt.scatter(X[:100], X[100:])\n",
    "plt.plot()"
   ]
  },
  {
   "cell_type": "markdown",
   "metadata": {},
   "source": [
    " The most popular method for solving integrals is Monte Carlo integration. In Monte Carlo integration the value of an integral is calculated by evaluating your function at random points and averaging the result over many iterations.\n",
    "\n",
    "The value of the integral depends on the points at which we evaluate the function. In principle we get a different result every time you perform the integral.\n",
    "We can run the integration for as long as you need to achieve the accuracy you are looking for.\n",
    " When doing an integral repeatedly evaluating the function at the same point does not help us at all. Even evaluating it again at a point nearby is a waste of time. What we want is to evaluate it at points you have not visited before. A point as far away from all previous points as possible.\n"
   ]
  },
  {
   "cell_type": "markdown",
   "metadata": {},
   "source": [
    "<h3>Conclusion: Monter Carlo just for fun:</h3>"
   ]
  },
  {
   "cell_type": "code",
   "execution_count": 14,
   "metadata": {},
   "outputs": [
    {
     "data": {
      "image/png": "[encoded data removed]",
      "text/plain": [
       "<Figure size 576x576 with 1 Axes>"
      ]
     },
     "metadata": {
      "needs_background": "light"
     },
     "output_type": "display_data"
    }
   ],
   "source": [
    "n = 1000\n",
    "x = np.random.rand(n,2)\n",
    "inside = x[np.sqrt(x[:,0]**2+x[:,1]**2) < 1]\n",
    "esimate = 4*len(inside)/len(x)\n",
    "plt.figure(figsize=(8,8))\n",
    "plt.title('Estimate of PI')\n",
    "plt.scatter(x[:,0], x[:,1], s= .5, c=\"red\")\n",
    "plt.scatter(inside[:,0], inside[:,1], s =.5, c= \"blue\")\n",
    "plt.show()"
   ]
  },
  {
   "cell_type": "markdown",
   "metadata": {},
   "source": [
    "$\\pi$ is a constant that represents the ratio of the circumference to the diameter of a circle. It is irrational, meaning it has infinite digits which follow no pattern. This example show and \"uncertan\" estimation of $\\pi $ comparing  a game of darts.\n",
    "As we can see, we are generating random points within a box, and counting the number of points which fall within an embedded circle. For the sake of simplicity, we only look at the upper quadrant of our dartboard, which has a radius R and is mounted on a square piece of wood of the same width. If we throw 100 darts with  the probability of a darts hitting the board will be π/4 , and count the number of darts which successfully hit the dartboard, we might obtain the following plot."
   ]
  },
  {
   "cell_type": "markdown",
   "metadata": {},
   "source": [
    "<i><b>References:</b></i><br>\n",
    "<font size =0.5><i>[1].Wikipedia :https://en.wikipedia.org/wiki/Simulation</i></font><br>\n",
    "<font size =0.5><i>[2].Herding cats: https://herdingcats.typepad.com/my_weblog/2018/09/monte-carlo-simulation.html </i> </i></font><br>\n",
    "<font size =0.5><i>[3].Stanford Encyclopedia of Philosophy: https://plato.stanford.edu/entries/simulations-science/ </i></font><br>\n",
    "<font size =0.5><i>[4].Wikipedia :https://en.wikipedia.org/wiki/Universal_Turing_machine </i></font><br>\n",
    "<font size =0.5><i>[5].How Alan Turing Helped Win WWII And Was Thanked With Criminal Prosecution For Being Gay:https://www.forbes.com/sites/daviddisalvo/2012/05/27/how-alan-turing-helped-win-wwii-and-was-thanked-with-criminal-prosecution-for-being-gay/?sh=35f691c5cc34 </i></font><br>\n",
    "<font size =0.5><i>[6].The problem Site: https://www.theproblemsite.com/reference/mathematics/probability/simple-probability-formula#:~:text=Desired%20outcomes%3A%20If%20we're,get%20the%20%22desired%22%20outcome.</i></font><br>\n",
    "<font size =0.5><i>[7]. What is empirical probabiity: https://magoosh.com/statistics/what-is-empirical-probability/</i></font><br>\n",
    "<font size =0.5><i>[8]. Ludwig C. Nitsche :https://lcn.people.uic.edu/classes/che205s17/docs/che205s17_reading_01f.pdf</i></font><br>\n",
    "<font size =0.5><i>[9]. Du l~y J. Benton Te n~ssee Valley Authority En i~eering Laboratory No if, Tennessee: COMPARISON OF METHODS FOR NUMERICAL INTEGRATION\n",
    "IN COMPUTING COOLING TOWER DEMAND CURVES</i></font><br>\n",
    "<font size =0.5><i>[10].https://betatim.github.io/pages/about</i></font><br>\n",
    "<font size =0.5><i>[11].:Towards Data Science. https://towardsdatascience.com/an-overview-of-monte-carlo-methods-675384eb1694"
   ]
  }
 ],
 "metadata": {
  "kernelspec": {
   "display_name": "Python 3",
   "language": "python",
   "name": "python3"
  },
  "language_info": {
   "codemirror_mode": {
    "name": "ipython",
    "version": 3
   },
   "file_extension": ".py",
   "mimetype": "text/x-python",
   "name": "python",
   "nbconvert_exporter": "python",
   "pygments_lexer": "ipython3",
   "version": "3.8.8"
  }
 },
 "nbformat": 4,
 "nbformat_minor": 4
}
